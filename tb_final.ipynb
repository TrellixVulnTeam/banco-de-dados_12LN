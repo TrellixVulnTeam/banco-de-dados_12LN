{
 "cells": [
  {
   "cell_type": "code",
   "execution_count": 3,
   "id": "c8f9b2cb",
   "metadata": {},
   "outputs": [],
   "source": [
    "import psycopg2\n",
    "import ipywidgets as widgets"
   ]
  },
  {
   "cell_type": "code",
   "execution_count": 6,
   "id": "7808b927",
   "metadata": {},
   "outputs": [],
   "source": [
    "#config\n",
    "host = 'localhost'\n",
    "dbname = 'fluxo_onibus-tb'\n",
    "user = 'postgres'\n",
    "password = 'postgres'\n",
    "sslmode = 'require'\n",
    "conn_string = 'host={0} user={1} dbname={2} password={3} sslmode={4}'.format(host, user, dbname, password, sslmode)"
   ]
  },
  {
   "cell_type": "code",
   "execution_count": 21,
   "id": "06507e64",
   "metadata": {},
   "outputs": [],
   "source": [
    "conn = psycopg2.connect(conn_string)"
   ]
  },
  {
   "cell_type": "code",
   "execution_count": 22,
   "id": "fd780194",
   "metadata": {},
   "outputs": [],
   "source": [
    "#com o cursor consigo executar SQL\n",
    "cursor = conn.cursor()\n",
    "cursor.execute(\"select nome from aluno\")"
   ]
  },
  {
   "cell_type": "code",
   "execution_count": 23,
   "id": "9c552d6d",
   "metadata": {},
   "outputs": [
    {
     "name": "stdout",
     "output_type": "stream",
     "text": [
      "('Marcos Paulo Rocha Rodrigues',)\n",
      "('Guilherme',)\n",
      "('Ricardo',)\n",
      "('Junior',)\n",
      "('Damasceno',)\n",
      "('Robson',)\n",
      "('Marta de Sousa Rocha Rodrigues',)\n",
      "('José Paulo Rodrigues',)\n",
      "('Juliana Soura Teixeira',)\n",
      "('Tarço Israel',)\n"
     ]
    }
   ],
   "source": [
    "for t in cursor:\n",
    "    print(t)"
   ]
  },
  {
   "cell_type": "code",
   "execution_count": 17,
   "id": "034b5171",
   "metadata": {},
   "outputs": [],
   "source": [
    "# fechar conexão com o banco\n",
    "cursor.close()\n",
    "conn.close()"
   ]
  }
 ],
 "metadata": {
  "kernelspec": {
   "display_name": "Python 3 (ipykernel)",
   "language": "python",
   "name": "python3"
  },
  "language_info": {
   "codemirror_mode": {
    "name": "ipython",
    "version": 3
   },
   "file_extension": ".py",
   "mimetype": "text/x-python",
   "name": "python",
   "nbconvert_exporter": "python",
   "pygments_lexer": "ipython3",
   "version": "3.8.10"
  }
 },
 "nbformat": 4,
 "nbformat_minor": 5
}
