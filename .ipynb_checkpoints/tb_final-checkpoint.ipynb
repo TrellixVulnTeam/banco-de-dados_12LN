{
 "cells": [
  {
   "cell_type": "code",
   "execution_count": 211,
   "id": "c8f9b2cb",
   "metadata": {},
   "outputs": [],
   "source": [
    "import psycopg2\n",
    "\n",
    "import ipywidgets as widgets"
   ]
  },
  {
   "cell_type": "code",
   "execution_count": 118,
   "id": "7808b927",
   "metadata": {},
   "outputs": [],
   "source": [
    "#config\n",
    "host = 'localhost'\n",
    "dbname = 'fluxo_onibus-tb'\n",
    "user = 'postgres'\n",
    "password = 'postgres'\n",
    "sslmode = 'require'\n",
    "conn_string = 'host={0} user={1} dbname={2} password={3} sslmode={4}'.format(host, user, dbname, password, sslmode)"
   ]
  },
  {
   "cell_type": "code",
   "execution_count": 44,
   "id": "fd780194",
   "metadata": {},
   "outputs": [],
   "source": [
    "#com o cursor consigo executar SQL\n",
    "cursor = conn.cursor()\n",
    "cursor.execute(\"select nome from aluno\")\n",
    "\n",
    "for t in cursor:\n",
    "    print(t)\n",
    "    \n",
    "# fechar conexão com o banco\n",
    "cursor.close()\n",
    "conn.close()"
   ]
  },
  {
   "cell_type": "code",
   "execution_count": 179,
   "id": "dd7ce378",
   "metadata": {},
   "outputs": [],
   "source": [
    "# campos de interação\n",
    "anome = widgets.Text(\n",
    "    value='',\n",
    "    placeholder='Digite seu nome',\n",
    "    description='Nome: ',\n",
    "    disabled=False\n",
    ")\n",
    "\n",
    "afaculdade = widgets.Text(\n",
    "    value='',\n",
    "    placeholder='Digite o nome da sua faculdade',\n",
    "    description='Faculdade: ',\n",
    "    disabled=False\n",
    ")\n",
    "\n",
    "end_rua = widgets.Text(\n",
    "    value='',\n",
    "    placeholder='Digite a rua',\n",
    "    description='Rua: ',\n",
    "    disabled=False\n",
    ")\n",
    "\n",
    "end_num = widgets.IntText(\n",
    "    min=0,\n",
    "    value=0,\n",
    "    description='Nº: ',\n",
    "    disabled=False\n",
    ")\n",
    "\n",
    "end_bairro = widgets.Text(\n",
    "    value='',\n",
    "    placeholder='Digite o bairro',\n",
    "    description='Bairro: ',\n",
    "    disabled=False\n",
    ")\n",
    "\n",
    "end_cidade = widgets.Text(\n",
    "    value='',\n",
    "    placeholder='Digite a cidade',\n",
    "    description='Cidade: ',\n",
    "    disabled=False\n",
    ")\n",
    "\n",
    "id_aluno = widgets.IntText(\n",
    "    min=0,\n",
    "    value=0,\n",
    "    description='Matrícula: ',\n",
    "    disabled=False\n",
    ")\n",
    "\n",
    "# widgets.DatePicker(\n",
    "#     description='Pick a Date',\n",
    "#     disabled=False\n",
    "# )"
   ]
  },
  {
   "cell_type": "code",
   "execution_count": 208,
   "id": "b85ab39d",
   "metadata": {},
   "outputs": [],
   "source": [
    "# butões\n",
    "button_i_aluno = widgets.Button(description=\"Inserir aluno\")\n",
    "button_r_aluno = widgets.Button(description=\"Remover aluno\")\n",
    "\n",
    "#funções\n",
    "def insert_aluno(b):\n",
    "    try:\n",
    "        conn = psycopg2.connect(conn_string)\n",
    "        cursor = conn.cursor()\n",
    "        query = f\"INSERT INTO Aluno(nome,faculdade,end_rua, end_num, end_bairro, end_cidade) VALUES ('{anome.value}', '{afaculdade.value}', '{end_rua.value}', {int(end_num.value)}, '{end_bairro.value}', '{end_cidade.value}');\"\n",
    "    #     print(query)\n",
    "        cursor.execute(query)\n",
    "        conn.commit()\n",
    "        conn.close()\n",
    "        print(f\"{anome.value} adicionado!\")\n",
    "    except Exception as erro:\n",
    "        print(f\"ERRO: {erro}\")\n",
    "\n",
    "def delete_aluno(b):\n",
    "    try:\n",
    "        conn = psycopg2.connect(conn_string)\n",
    "        cursor = conn.cursor()\n",
    "        \n",
    "        matriculas = []\n",
    "        cursor.execute(f\"SELECT id_aluno FROM aluno;\")\n",
    "        for t in cursor:\n",
    "            matriculas.append(t[0])\n",
    "        \n",
    "        if id_aluno.value in matriculas:\n",
    "            query = f\"delete from aluno where id_aluno = {int(id_aluno.value)};\"\n",
    "            cursor.execute(query)\n",
    "            conn.commit()\n",
    "            conn.close()\n",
    "            print(f\"{id_aluno.value} removido!\")\n",
    "        else:\n",
    "            print(f\"{id_aluno.value} não encontrado!\")\n",
    "    except Exception as erro:\n",
    "        print(f\"ERRO: {erro}\")\n",
    "\n",
    "# associações de botões com funções\n",
    "button_i_aluno.on_click(insert_aluno)\n",
    "button_r_aluno.on_click(delete_aluno)"
   ]
  },
  {
   "cell_type": "code",
   "execution_count": 188,
   "id": "58702bf1",
   "metadata": {},
   "outputs": [
    {
     "data": {
      "application/vnd.jupyter.widget-view+json": {
       "model_id": "3641b169af3d47afb3b68d9fb3f4e534",
       "version_major": 2,
       "version_minor": 0
      },
      "text/plain": [
       "Text(value='', description='Nome: ', placeholder='Digite seu nome')"
      ]
     },
     "metadata": {},
     "output_type": "display_data"
    },
    {
     "data": {
      "application/vnd.jupyter.widget-view+json": {
       "model_id": "8f854663577a451abd60a616e79b63f6",
       "version_major": 2,
       "version_minor": 0
      },
      "text/plain": [
       "Text(value='', description='Faculdade: ', placeholder='Digite o nome da sua faculdade')"
      ]
     },
     "metadata": {},
     "output_type": "display_data"
    },
    {
     "data": {
      "application/vnd.jupyter.widget-view+json": {
       "model_id": "91eccaa379cf46c6b418d612e28210c5",
       "version_major": 2,
       "version_minor": 0
      },
      "text/plain": [
       "Text(value='', description='Rua: ', placeholder='Digite a rua')"
      ]
     },
     "metadata": {},
     "output_type": "display_data"
    },
    {
     "data": {
      "application/vnd.jupyter.widget-view+json": {
       "model_id": "b470a128a3ef43bdb897e966d9a62718",
       "version_major": 2,
       "version_minor": 0
      },
      "text/plain": [
       "IntText(value=0, description='Nº: ')"
      ]
     },
     "metadata": {},
     "output_type": "display_data"
    },
    {
     "data": {
      "application/vnd.jupyter.widget-view+json": {
       "model_id": "1dacf5a030124d63ada76984672cb1c4",
       "version_major": 2,
       "version_minor": 0
      },
      "text/plain": [
       "Text(value='', description='Bairro: ', placeholder='Digite o bairro')"
      ]
     },
     "metadata": {},
     "output_type": "display_data"
    },
    {
     "data": {
      "application/vnd.jupyter.widget-view+json": {
       "model_id": "550378d977824789bc241e0b03353315",
       "version_major": 2,
       "version_minor": 0
      },
      "text/plain": [
       "Text(value='', description='Cidade: ', placeholder='Digite a cidade')"
      ]
     },
     "metadata": {},
     "output_type": "display_data"
    },
    {
     "data": {
      "application/vnd.jupyter.widget-view+json": {
       "model_id": "70d98633bae6485ea1bbcf34d95400ed",
       "version_major": 2,
       "version_minor": 0
      },
      "text/plain": [
       "Button(description='Inserir aluno', style=ButtonStyle())"
      ]
     },
     "metadata": {},
     "output_type": "display_data"
    },
    {
     "name": "stdout",
     "output_type": "stream",
     "text": [
      "MP adicionado!\n"
     ]
    }
   ],
   "source": [
    "# inserir aluno\n",
    "display(anome, afaculdade, end_rua, end_num, end_bairro, end_cidade, button_i_aluno)"
   ]
  },
  {
   "cell_type": "code",
   "execution_count": 210,
   "id": "a56dfcaf",
   "metadata": {},
   "outputs": [
    {
     "data": {
      "application/vnd.jupyter.widget-view+json": {
       "model_id": "9af32866d3bf451b9d2f4629b6a7067c",
       "version_major": 2,
       "version_minor": 0
      },
      "text/plain": [
       "IntText(value=12, description='Matrícula: ')"
      ]
     },
     "metadata": {},
     "output_type": "display_data"
    },
    {
     "data": {
      "application/vnd.jupyter.widget-view+json": {
       "model_id": "e85efbeadf434b229822ac29df20006f",
       "version_major": 2,
       "version_minor": 0
      },
      "text/plain": [
       "Button(description='Remover aluno', style=ButtonStyle())"
      ]
     },
     "metadata": {},
     "output_type": "display_data"
    }
   ],
   "source": [
    "# delete aluno\n",
    "display(id_aluno, button_r_aluno)"
   ]
  },
  {
   "cell_type": "code",
   "execution_count": null,
   "id": "8c320d12",
   "metadata": {},
   "outputs": [],
   "source": []
  }
 ],
 "metadata": {
  "kernelspec": {
   "display_name": "Python 3 (ipykernel)",
   "language": "python",
   "name": "python3"
  },
  "language_info": {
   "codemirror_mode": {
    "name": "ipython",
    "version": 3
   },
   "file_extension": ".py",
   "mimetype": "text/x-python",
   "name": "python",
   "nbconvert_exporter": "python",
   "pygments_lexer": "ipython3",
   "version": "3.8.10"
  }
 },
 "nbformat": 4,
 "nbformat_minor": 5
}
